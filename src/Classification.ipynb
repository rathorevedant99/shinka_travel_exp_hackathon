{
  "cells": [
    {
      "attachments": {},
      "cell_type": "markdown",
      "id": "uexx47MYlgxI",
      "metadata": {
        "id": "uexx47MYlgxI"
      },
      "source": [
        "Vedant Singh Rathore\n",
        "<br>Hackathon"
      ]
    },
    {
      "attachments": {},
      "cell_type": "markdown",
      "id": "dirty-island",
      "metadata": {
        "id": "dirty-island"
      },
      "source": [
        "## Importing necessary libraries and data"
      ]
    },
    {
      "cell_type": "code",
      "execution_count": 114,
      "id": "statewide-still",
      "metadata": {
        "id": "statewide-still"
      },
      "outputs": [],
      "source": [
        "import pandas as pd\n",
        "import numpy as np\n",
        "import matplotlib.pyplot as plt\n",
        "import seaborn as sns\n",
        "import os\n",
        "\n",
        "# For Data Treatment\n",
        "from sklearn.preprocessing import StandardScaler\n",
        "from sklearn.decomposition import PCA\n",
        "from sklearn.model_selection import train_test_split\n",
        "from scipy.stats import boxcox\n",
        "\n",
        "# Algorithms to use\n",
        "from sklearn.linear_model import LogisticRegression\n",
        "from sklearn.svm import SVC\n",
        "from sklearn.tree import DecisionTreeClassifier\n",
        "from sklearn.ensemble import BaggingClassifier\n",
        "from sklearn.ensemble import RandomForestClassifier\n",
        "\n",
        "# Metrics to evaluate the model\n",
        "from sklearn import metrics\n",
        "from sklearn.metrics import confusion_matrix, classification_report, precision_recall_curve,recall_score, make_scorer\n",
        "from sklearn import tree\n",
        "\n",
        "# For tuning the model\n",
        "from sklearn.model_selection import GridSearchCV\n",
        "import datetime\n",
        "\n",
        "# To ignore warnings\n",
        "import warnings\n",
        "warnings.filterwarnings(\"ignore\")\n",
        "\n",
        "os.chdir('/Users/vedantrathore/VSCode Working Folder/mit_idss/shinka_travel_exp_hackathon/')"
      ]
    },
    {
      "cell_type": "code",
      "execution_count": 58,
      "id": "Hvjh0jHo29Zu",
      "metadata": {
        "colab": {
          "base_uri": "https://localhost:8080/"
        },
        "id": "Hvjh0jHo29Zu",
        "outputId": "45b330cf-a73b-451b-8a63-e9450c52928c"
      },
      "outputs": [],
      "source": [
        "train_data_path = os.getcwd()+'/data/train/'\n",
        "test_data_path = os.getcwd()+'/data/test/'\n",
        "\n",
        "survey_train = pd.read_csv(train_data_path+'Surveydata_train.csv')\n",
        "travel_train = pd.read_csv(train_data_path+'Traveldata_train.csv')\n",
        "\n",
        "survey_test = pd.read_csv(test_data_path+'Surveydata_test.csv')\n",
        "travel_test = pd.read_csv(test_data_path+'Traveldata_test.csv')"
      ]
    },
    {
      "cell_type": "code",
      "execution_count": 59,
      "id": "79d103ae",
      "metadata": {},
      "outputs": [],
      "source": [
        "train_df = pd.merge(travel_train, survey_train, on='ID', how='left')\n",
        "df = train_df.copy()\n",
        "\n",
        "test_df = pd.merge(travel_test, survey_test, on='ID', how='left')\n",
        "out_df = test_df.copy()"
      ]
    },
    {
      "cell_type": "code",
      "execution_count": 60,
      "id": "8507b649",
      "metadata": {},
      "outputs": [],
      "source": [
        "target_col = 'Overall_Experience'\n",
        "id_col = 'ID'"
      ]
    },
    {
      "attachments": {},
      "cell_type": "markdown",
      "id": "desperate-infection",
      "metadata": {
        "id": "desperate-infection"
      },
      "source": [
        "## Data Overview\n",
        "\n",
        "- Observations\n",
        "- Sanity checks"
      ]
    },
    {
      "cell_type": "code",
      "execution_count": 61,
      "id": "persistent-juice",
      "metadata": {
        "colab": {
          "base_uri": "https://localhost:8080/",
          "height": 270
        },
        "id": "persistent-juice",
        "outputId": "e0d8f825-28d5-46d9-f7cf-b200530a770b"
      },
      "outputs": [
        {
          "data": {
            "text/html": [
              "<div>\n",
              "<style scoped>\n",
              "    .dataframe tbody tr th:only-of-type {\n",
              "        vertical-align: middle;\n",
              "    }\n",
              "\n",
              "    .dataframe tbody tr th {\n",
              "        vertical-align: top;\n",
              "    }\n",
              "\n",
              "    .dataframe thead th {\n",
              "        text-align: right;\n",
              "    }\n",
              "</style>\n",
              "<table border=\"1\" class=\"dataframe\">\n",
              "  <thead>\n",
              "    <tr style=\"text-align: right;\">\n",
              "      <th></th>\n",
              "      <th>ID</th>\n",
              "      <th>Gender</th>\n",
              "      <th>Customer_Type</th>\n",
              "      <th>Age</th>\n",
              "      <th>Type_Travel</th>\n",
              "      <th>Travel_Class</th>\n",
              "      <th>Travel_Distance</th>\n",
              "      <th>Departure_Delay_in_Mins</th>\n",
              "      <th>Arrival_Delay_in_Mins</th>\n",
              "      <th>Overall_Experience</th>\n",
              "      <th>...</th>\n",
              "      <th>Onboard_Wifi_Service</th>\n",
              "      <th>Onboard_Entertainment</th>\n",
              "      <th>Online_Support</th>\n",
              "      <th>Ease_of_Online_Booking</th>\n",
              "      <th>Onboard_Service</th>\n",
              "      <th>Legroom</th>\n",
              "      <th>Baggage_Handling</th>\n",
              "      <th>CheckIn_Service</th>\n",
              "      <th>Cleanliness</th>\n",
              "      <th>Online_Boarding</th>\n",
              "    </tr>\n",
              "  </thead>\n",
              "  <tbody>\n",
              "    <tr>\n",
              "      <th>0</th>\n",
              "      <td>98800001</td>\n",
              "      <td>Female</td>\n",
              "      <td>Loyal Customer</td>\n",
              "      <td>52.0</td>\n",
              "      <td>NaN</td>\n",
              "      <td>Business</td>\n",
              "      <td>272</td>\n",
              "      <td>0.0</td>\n",
              "      <td>5.0</td>\n",
              "      <td>0</td>\n",
              "      <td>...</td>\n",
              "      <td>Good</td>\n",
              "      <td>Needs Improvement</td>\n",
              "      <td>Acceptable</td>\n",
              "      <td>Needs Improvement</td>\n",
              "      <td>Needs Improvement</td>\n",
              "      <td>Acceptable</td>\n",
              "      <td>Needs Improvement</td>\n",
              "      <td>Good</td>\n",
              "      <td>Needs Improvement</td>\n",
              "      <td>Poor</td>\n",
              "    </tr>\n",
              "    <tr>\n",
              "      <th>1</th>\n",
              "      <td>98800002</td>\n",
              "      <td>Male</td>\n",
              "      <td>Loyal Customer</td>\n",
              "      <td>48.0</td>\n",
              "      <td>Personal Travel</td>\n",
              "      <td>Eco</td>\n",
              "      <td>2200</td>\n",
              "      <td>9.0</td>\n",
              "      <td>0.0</td>\n",
              "      <td>0</td>\n",
              "      <td>...</td>\n",
              "      <td>Good</td>\n",
              "      <td>Poor</td>\n",
              "      <td>Good</td>\n",
              "      <td>Good</td>\n",
              "      <td>Excellent</td>\n",
              "      <td>Needs Improvement</td>\n",
              "      <td>Poor</td>\n",
              "      <td>Needs Improvement</td>\n",
              "      <td>Good</td>\n",
              "      <td>Good</td>\n",
              "    </tr>\n",
              "    <tr>\n",
              "      <th>2</th>\n",
              "      <td>98800003</td>\n",
              "      <td>Female</td>\n",
              "      <td>Loyal Customer</td>\n",
              "      <td>43.0</td>\n",
              "      <td>Business Travel</td>\n",
              "      <td>Business</td>\n",
              "      <td>1061</td>\n",
              "      <td>77.0</td>\n",
              "      <td>119.0</td>\n",
              "      <td>1</td>\n",
              "      <td>...</td>\n",
              "      <td>Needs Improvement</td>\n",
              "      <td>Good</td>\n",
              "      <td>Excellent</td>\n",
              "      <td>Excellent</td>\n",
              "      <td>Excellent</td>\n",
              "      <td>Excellent</td>\n",
              "      <td>Excellent</td>\n",
              "      <td>Good</td>\n",
              "      <td>Excellent</td>\n",
              "      <td>Excellent</td>\n",
              "    </tr>\n",
              "    <tr>\n",
              "      <th>3</th>\n",
              "      <td>98800004</td>\n",
              "      <td>Female</td>\n",
              "      <td>Loyal Customer</td>\n",
              "      <td>44.0</td>\n",
              "      <td>Business Travel</td>\n",
              "      <td>Business</td>\n",
              "      <td>780</td>\n",
              "      <td>13.0</td>\n",
              "      <td>18.0</td>\n",
              "      <td>0</td>\n",
              "      <td>...</td>\n",
              "      <td>Acceptable</td>\n",
              "      <td>Needs Improvement</td>\n",
              "      <td>Acceptable</td>\n",
              "      <td>Acceptable</td>\n",
              "      <td>Acceptable</td>\n",
              "      <td>Acceptable</td>\n",
              "      <td>Acceptable</td>\n",
              "      <td>Good</td>\n",
              "      <td>Acceptable</td>\n",
              "      <td>Acceptable</td>\n",
              "    </tr>\n",
              "    <tr>\n",
              "      <th>4</th>\n",
              "      <td>98800005</td>\n",
              "      <td>Female</td>\n",
              "      <td>Loyal Customer</td>\n",
              "      <td>50.0</td>\n",
              "      <td>Business Travel</td>\n",
              "      <td>Business</td>\n",
              "      <td>1981</td>\n",
              "      <td>0.0</td>\n",
              "      <td>0.0</td>\n",
              "      <td>1</td>\n",
              "      <td>...</td>\n",
              "      <td>Needs Improvement</td>\n",
              "      <td>Good</td>\n",
              "      <td>Excellent</td>\n",
              "      <td>Good</td>\n",
              "      <td>Good</td>\n",
              "      <td>Good</td>\n",
              "      <td>Good</td>\n",
              "      <td>Good</td>\n",
              "      <td>Good</td>\n",
              "      <td>Good</td>\n",
              "    </tr>\n",
              "  </tbody>\n",
              "</table>\n",
              "<p>5 rows × 25 columns</p>\n",
              "</div>"
            ],
            "text/plain": [
              "         ID  Gender   Customer_Type   Age      Type_Travel Travel_Class  \\\n",
              "0  98800001  Female  Loyal Customer  52.0              NaN     Business   \n",
              "1  98800002    Male  Loyal Customer  48.0  Personal Travel          Eco   \n",
              "2  98800003  Female  Loyal Customer  43.0  Business Travel     Business   \n",
              "3  98800004  Female  Loyal Customer  44.0  Business Travel     Business   \n",
              "4  98800005  Female  Loyal Customer  50.0  Business Travel     Business   \n",
              "\n",
              "   Travel_Distance  Departure_Delay_in_Mins  Arrival_Delay_in_Mins  \\\n",
              "0              272                      0.0                    5.0   \n",
              "1             2200                      9.0                    0.0   \n",
              "2             1061                     77.0                  119.0   \n",
              "3              780                     13.0                   18.0   \n",
              "4             1981                      0.0                    0.0   \n",
              "\n",
              "   Overall_Experience  ... Onboard_Wifi_Service Onboard_Entertainment  \\\n",
              "0                   0  ...                 Good     Needs Improvement   \n",
              "1                   0  ...                 Good                  Poor   \n",
              "2                   1  ...    Needs Improvement                  Good   \n",
              "3                   0  ...           Acceptable     Needs Improvement   \n",
              "4                   1  ...    Needs Improvement                  Good   \n",
              "\n",
              "  Online_Support Ease_of_Online_Booking    Onboard_Service            Legroom  \\\n",
              "0     Acceptable      Needs Improvement  Needs Improvement         Acceptable   \n",
              "1           Good                   Good          Excellent  Needs Improvement   \n",
              "2      Excellent              Excellent          Excellent          Excellent   \n",
              "3     Acceptable             Acceptable         Acceptable         Acceptable   \n",
              "4      Excellent                   Good               Good               Good   \n",
              "\n",
              "    Baggage_Handling    CheckIn_Service        Cleanliness Online_Boarding  \n",
              "0  Needs Improvement               Good  Needs Improvement            Poor  \n",
              "1               Poor  Needs Improvement               Good            Good  \n",
              "2          Excellent               Good          Excellent       Excellent  \n",
              "3         Acceptable               Good         Acceptable      Acceptable  \n",
              "4               Good               Good               Good            Good  \n",
              "\n",
              "[5 rows x 25 columns]"
            ]
          },
          "execution_count": 61,
          "metadata": {},
          "output_type": "execute_result"
        }
      ],
      "source": [
        "### First 5 rows\n",
        "df.head()"
      ]
    },
    {
      "cell_type": "code",
      "execution_count": 62,
      "id": "uKO7qu4zdLfx",
      "metadata": {
        "colab": {
          "base_uri": "https://localhost:8080/"
        },
        "id": "uKO7qu4zdLfx",
        "outputId": "ad5a7b36-45b2-4f6c-cec5-5934df75d6ad"
      },
      "outputs": [
        {
          "name": "stdout",
          "output_type": "stream",
          "text": [
            "Rows: 94379\n",
            "Columns: 25\n"
          ]
        }
      ],
      "source": [
        "#### Print Rows and Columns\n",
        "print(f'Rows: {df.shape[0]}')\n",
        "print(f'Columns: {df.shape[1]}')"
      ]
    },
    {
      "cell_type": "code",
      "execution_count": 63,
      "id": "jimSFIfI8u1g",
      "metadata": {
        "colab": {
          "base_uri": "https://localhost:8080/"
        },
        "id": "jimSFIfI8u1g",
        "outputId": "1090e5e3-3742-4529-cd59-eddaf9e344b9"
      },
      "outputs": [
        {
          "name": "stdout",
          "output_type": "stream",
          "text": [
            "<class 'pandas.core.frame.DataFrame'>\n",
            "RangeIndex: 94379 entries, 0 to 94378\n",
            "Data columns (total 25 columns):\n",
            " #   Column                   Non-Null Count  Dtype  \n",
            "---  ------                   --------------  -----  \n",
            " 0   ID                       94379 non-null  int64  \n",
            " 1   Gender                   94302 non-null  object \n",
            " 2   Customer_Type            85428 non-null  object \n",
            " 3   Age                      94346 non-null  float64\n",
            " 4   Type_Travel              85153 non-null  object \n",
            " 5   Travel_Class             94379 non-null  object \n",
            " 6   Travel_Distance          94379 non-null  int64  \n",
            " 7   Departure_Delay_in_Mins  94322 non-null  float64\n",
            " 8   Arrival_Delay_in_Mins    94022 non-null  float64\n",
            " 9   Overall_Experience       94379 non-null  int64  \n",
            " 10  Seat_Comfort             94318 non-null  object \n",
            " 11  Seat_Class               94379 non-null  object \n",
            " 12  Arrival_Time_Convenient  85449 non-null  object \n",
            " 13  Catering                 85638 non-null  object \n",
            " 14  Platform_Location        94349 non-null  object \n",
            " 15  Onboard_Wifi_Service     94349 non-null  object \n",
            " 16  Onboard_Entertainment    94361 non-null  object \n",
            " 17  Online_Support           94288 non-null  object \n",
            " 18  Ease_of_Online_Booking   94306 non-null  object \n",
            " 19  Onboard_Service          86778 non-null  object \n",
            " 20  Legroom                  94289 non-null  object \n",
            " 21  Baggage_Handling         94237 non-null  object \n",
            " 22  CheckIn_Service          94302 non-null  object \n",
            " 23  Cleanliness              94373 non-null  object \n",
            " 24  Online_Boarding          94373 non-null  object \n",
            "dtypes: float64(3), int64(3), object(19)\n",
            "memory usage: 18.0+ MB\n"
          ]
        }
      ],
      "source": [
        "### Checking info of the data ###\n",
        "df.info()"
      ]
    },
    {
      "attachments": {},
      "cell_type": "markdown",
      "id": "AP4TBr4g85jr",
      "metadata": {
        "id": "AP4TBr4g85jr"
      },
      "source": [
        "1. No Null Values\n",
        "2. All Data Types Correct\n",
        "3. 1 ID column to be dropped before modelling as it doesn't provide any information. **Kept until modelling to keep count of classes**.\n",
        "4. Target Column: status"
      ]
    },
    {
      "attachments": {},
      "cell_type": "markdown",
      "id": "seasonal-calibration",
      "metadata": {
        "id": "seasonal-calibration"
      },
      "source": [
        "## Exploratory Data Analysis (EDA)\n",
        "\n",
        "- EDA is an important part of any project involving data.\n",
        "- It is important to investigate and understand the data better before building a model with it.\n",
        "- A few questions have been mentioned below which will help you approach the analysis in the right manner and generate insights from the data.\n",
        "- A thorough analysis of the data, in addition to the questions mentioned below, should be done."
      ]
    },
    {
      "cell_type": "code",
      "execution_count": 64,
      "id": "8kqtLWvkhbFx",
      "metadata": {
        "id": "8kqtLWvkhbFx"
      },
      "outputs": [],
      "source": [
        "## Filter Numeric Columns from the dataframe\n",
        "numeric_columns = df.select_dtypes(include=np.number).columns.tolist()\n",
        "categorical_columns = df.select_dtypes(exclude=np.number).columns.tolist()\n",
        "## Drop target columns\n",
        "numeric_columns.remove(id_col)\n",
        "\n",
        "columns = list(df.columns)\n",
        "columns.remove(id_col)"
      ]
    },
    {
      "cell_type": "code",
      "execution_count": 65,
      "id": "34d5c919",
      "metadata": {},
      "outputs": [
        {
          "data": {
            "text/plain": [
              "['Age',\n",
              " 'Travel_Distance',\n",
              " 'Departure_Delay_in_Mins',\n",
              " 'Arrival_Delay_in_Mins',\n",
              " 'Overall_Experience']"
            ]
          },
          "execution_count": 65,
          "metadata": {},
          "output_type": "execute_result"
        }
      ],
      "source": [
        "numeric_columns"
      ]
    },
    {
      "cell_type": "code",
      "execution_count": 66,
      "id": "GoCGUx0YdoIt",
      "metadata": {
        "colab": {
          "base_uri": "https://localhost:8080/",
          "height": 363
        },
        "id": "GoCGUx0YdoIt",
        "outputId": "7fa5ee21-4cd1-4e31-9f68-67f0850aa630"
      },
      "outputs": [
        {
          "data": {
            "text/html": [
              "<div>\n",
              "<style scoped>\n",
              "    .dataframe tbody tr th:only-of-type {\n",
              "        vertical-align: middle;\n",
              "    }\n",
              "\n",
              "    .dataframe tbody tr th {\n",
              "        vertical-align: top;\n",
              "    }\n",
              "\n",
              "    .dataframe thead th {\n",
              "        text-align: right;\n",
              "    }\n",
              "</style>\n",
              "<table border=\"1\" class=\"dataframe\">\n",
              "  <thead>\n",
              "    <tr style=\"text-align: right;\">\n",
              "      <th></th>\n",
              "      <th>count</th>\n",
              "      <th>unique</th>\n",
              "      <th>top</th>\n",
              "      <th>freq</th>\n",
              "    </tr>\n",
              "  </thead>\n",
              "  <tbody>\n",
              "    <tr>\n",
              "      <th>Gender</th>\n",
              "      <td>94302</td>\n",
              "      <td>2</td>\n",
              "      <td>Female</td>\n",
              "      <td>47815</td>\n",
              "    </tr>\n",
              "    <tr>\n",
              "      <th>Customer_Type</th>\n",
              "      <td>85428</td>\n",
              "      <td>2</td>\n",
              "      <td>Loyal Customer</td>\n",
              "      <td>69823</td>\n",
              "    </tr>\n",
              "    <tr>\n",
              "      <th>Type_Travel</th>\n",
              "      <td>85153</td>\n",
              "      <td>2</td>\n",
              "      <td>Business Travel</td>\n",
              "      <td>58617</td>\n",
              "    </tr>\n",
              "    <tr>\n",
              "      <th>Travel_Class</th>\n",
              "      <td>94379</td>\n",
              "      <td>2</td>\n",
              "      <td>Eco</td>\n",
              "      <td>49342</td>\n",
              "    </tr>\n",
              "    <tr>\n",
              "      <th>Seat_Comfort</th>\n",
              "      <td>94318</td>\n",
              "      <td>6</td>\n",
              "      <td>Acceptable</td>\n",
              "      <td>21158</td>\n",
              "    </tr>\n",
              "    <tr>\n",
              "      <th>Seat_Class</th>\n",
              "      <td>94379</td>\n",
              "      <td>2</td>\n",
              "      <td>Green Car</td>\n",
              "      <td>47435</td>\n",
              "    </tr>\n",
              "    <tr>\n",
              "      <th>Arrival_Time_Convenient</th>\n",
              "      <td>85449</td>\n",
              "      <td>6</td>\n",
              "      <td>Good</td>\n",
              "      <td>19574</td>\n",
              "    </tr>\n",
              "    <tr>\n",
              "      <th>Catering</th>\n",
              "      <td>85638</td>\n",
              "      <td>6</td>\n",
              "      <td>Acceptable</td>\n",
              "      <td>18468</td>\n",
              "    </tr>\n",
              "    <tr>\n",
              "      <th>Platform_Location</th>\n",
              "      <td>94349</td>\n",
              "      <td>6</td>\n",
              "      <td>Manageable</td>\n",
              "      <td>24173</td>\n",
              "    </tr>\n",
              "    <tr>\n",
              "      <th>Onboard_Wifi_Service</th>\n",
              "      <td>94349</td>\n",
              "      <td>6</td>\n",
              "      <td>Good</td>\n",
              "      <td>22835</td>\n",
              "    </tr>\n",
              "    <tr>\n",
              "      <th>Onboard_Entertainment</th>\n",
              "      <td>94361</td>\n",
              "      <td>6</td>\n",
              "      <td>Good</td>\n",
              "      <td>30446</td>\n",
              "    </tr>\n",
              "    <tr>\n",
              "      <th>Online_Support</th>\n",
              "      <td>94288</td>\n",
              "      <td>6</td>\n",
              "      <td>Good</td>\n",
              "      <td>30016</td>\n",
              "    </tr>\n",
              "    <tr>\n",
              "      <th>Ease_of_Online_Booking</th>\n",
              "      <td>94306</td>\n",
              "      <td>6</td>\n",
              "      <td>Good</td>\n",
              "      <td>28909</td>\n",
              "    </tr>\n",
              "    <tr>\n",
              "      <th>Onboard_Service</th>\n",
              "      <td>86778</td>\n",
              "      <td>6</td>\n",
              "      <td>Good</td>\n",
              "      <td>27265</td>\n",
              "    </tr>\n",
              "    <tr>\n",
              "      <th>Legroom</th>\n",
              "      <td>94289</td>\n",
              "      <td>6</td>\n",
              "      <td>Good</td>\n",
              "      <td>28870</td>\n",
              "    </tr>\n",
              "    <tr>\n",
              "      <th>Baggage_Handling</th>\n",
              "      <td>94237</td>\n",
              "      <td>5</td>\n",
              "      <td>Good</td>\n",
              "      <td>34944</td>\n",
              "    </tr>\n",
              "    <tr>\n",
              "      <th>CheckIn_Service</th>\n",
              "      <td>94302</td>\n",
              "      <td>6</td>\n",
              "      <td>Good</td>\n",
              "      <td>26502</td>\n",
              "    </tr>\n",
              "    <tr>\n",
              "      <th>Cleanliness</th>\n",
              "      <td>94373</td>\n",
              "      <td>6</td>\n",
              "      <td>Good</td>\n",
              "      <td>35427</td>\n",
              "    </tr>\n",
              "    <tr>\n",
              "      <th>Online_Boarding</th>\n",
              "      <td>94373</td>\n",
              "      <td>6</td>\n",
              "      <td>Good</td>\n",
              "      <td>25533</td>\n",
              "    </tr>\n",
              "  </tbody>\n",
              "</table>\n",
              "</div>"
            ],
            "text/plain": [
              "                         count unique              top   freq\n",
              "Gender                   94302      2           Female  47815\n",
              "Customer_Type            85428      2   Loyal Customer  69823\n",
              "Type_Travel              85153      2  Business Travel  58617\n",
              "Travel_Class             94379      2              Eco  49342\n",
              "Seat_Comfort             94318      6       Acceptable  21158\n",
              "Seat_Class               94379      2        Green Car  47435\n",
              "Arrival_Time_Convenient  85449      6             Good  19574\n",
              "Catering                 85638      6       Acceptable  18468\n",
              "Platform_Location        94349      6       Manageable  24173\n",
              "Onboard_Wifi_Service     94349      6             Good  22835\n",
              "Onboard_Entertainment    94361      6             Good  30446\n",
              "Online_Support           94288      6             Good  30016\n",
              "Ease_of_Online_Booking   94306      6             Good  28909\n",
              "Onboard_Service          86778      6             Good  27265\n",
              "Legroom                  94289      6             Good  28870\n",
              "Baggage_Handling         94237      5             Good  34944\n",
              "CheckIn_Service          94302      6             Good  26502\n",
              "Cleanliness              94373      6             Good  35427\n",
              "Online_Boarding          94373      6             Good  25533"
            ]
          },
          "execution_count": 66,
          "metadata": {},
          "output_type": "execute_result"
        }
      ],
      "source": [
        "### Summary of Categorical Columns\n",
        "## df.describe method can be used to print the statistical summary of the data\n",
        "## include='object' argument provides the summary for ordinal columns\n",
        "df.describe(include='object').T"
      ]
    },
    {
      "cell_type": "code",
      "execution_count": 67,
      "id": "qtJ5LSJEeB0g",
      "metadata": {
        "colab": {
          "base_uri": "https://localhost:8080/",
          "height": 206
        },
        "id": "qtJ5LSJEeB0g",
        "outputId": "7856afcf-8526-4d1b-e51b-620c9a3c104f"
      },
      "outputs": [
        {
          "data": {
            "text/html": [
              "<div>\n",
              "<style scoped>\n",
              "    .dataframe tbody tr th:only-of-type {\n",
              "        vertical-align: middle;\n",
              "    }\n",
              "\n",
              "    .dataframe tbody tr th {\n",
              "        vertical-align: top;\n",
              "    }\n",
              "\n",
              "    .dataframe thead th {\n",
              "        text-align: right;\n",
              "    }\n",
              "</style>\n",
              "<table border=\"1\" class=\"dataframe\">\n",
              "  <thead>\n",
              "    <tr style=\"text-align: right;\">\n",
              "      <th></th>\n",
              "      <th>count</th>\n",
              "      <th>mean</th>\n",
              "      <th>std</th>\n",
              "      <th>min</th>\n",
              "      <th>25%</th>\n",
              "      <th>50%</th>\n",
              "      <th>75%</th>\n",
              "      <th>max</th>\n",
              "    </tr>\n",
              "  </thead>\n",
              "  <tbody>\n",
              "    <tr>\n",
              "      <th>ID</th>\n",
              "      <td>94379.0</td>\n",
              "      <td>9.884719e+07</td>\n",
              "      <td>27245.014865</td>\n",
              "      <td>98800001.0</td>\n",
              "      <td>98823595.5</td>\n",
              "      <td>98847190.0</td>\n",
              "      <td>98870784.5</td>\n",
              "      <td>98894379.0</td>\n",
              "    </tr>\n",
              "    <tr>\n",
              "      <th>Age</th>\n",
              "      <td>94346.0</td>\n",
              "      <td>3.941965e+01</td>\n",
              "      <td>15.116632</td>\n",
              "      <td>7.0</td>\n",
              "      <td>27.0</td>\n",
              "      <td>40.0</td>\n",
              "      <td>51.0</td>\n",
              "      <td>85.0</td>\n",
              "    </tr>\n",
              "    <tr>\n",
              "      <th>Travel_Distance</th>\n",
              "      <td>94379.0</td>\n",
              "      <td>1.978888e+03</td>\n",
              "      <td>1027.961019</td>\n",
              "      <td>50.0</td>\n",
              "      <td>1359.0</td>\n",
              "      <td>1923.0</td>\n",
              "      <td>2538.0</td>\n",
              "      <td>6951.0</td>\n",
              "    </tr>\n",
              "    <tr>\n",
              "      <th>Departure_Delay_in_Mins</th>\n",
              "      <td>94322.0</td>\n",
              "      <td>1.464709e+01</td>\n",
              "      <td>38.138781</td>\n",
              "      <td>0.0</td>\n",
              "      <td>0.0</td>\n",
              "      <td>0.0</td>\n",
              "      <td>12.0</td>\n",
              "      <td>1592.0</td>\n",
              "    </tr>\n",
              "    <tr>\n",
              "      <th>Arrival_Delay_in_Mins</th>\n",
              "      <td>94022.0</td>\n",
              "      <td>1.500522e+01</td>\n",
              "      <td>38.439409</td>\n",
              "      <td>0.0</td>\n",
              "      <td>0.0</td>\n",
              "      <td>0.0</td>\n",
              "      <td>13.0</td>\n",
              "      <td>1584.0</td>\n",
              "    </tr>\n",
              "    <tr>\n",
              "      <th>Overall_Experience</th>\n",
              "      <td>94379.0</td>\n",
              "      <td>5.466576e-01</td>\n",
              "      <td>0.497821</td>\n",
              "      <td>0.0</td>\n",
              "      <td>0.0</td>\n",
              "      <td>1.0</td>\n",
              "      <td>1.0</td>\n",
              "      <td>1.0</td>\n",
              "    </tr>\n",
              "  </tbody>\n",
              "</table>\n",
              "</div>"
            ],
            "text/plain": [
              "                           count          mean           std         min  \\\n",
              "ID                       94379.0  9.884719e+07  27245.014865  98800001.0   \n",
              "Age                      94346.0  3.941965e+01     15.116632         7.0   \n",
              "Travel_Distance          94379.0  1.978888e+03   1027.961019        50.0   \n",
              "Departure_Delay_in_Mins  94322.0  1.464709e+01     38.138781         0.0   \n",
              "Arrival_Delay_in_Mins    94022.0  1.500522e+01     38.439409         0.0   \n",
              "Overall_Experience       94379.0  5.466576e-01      0.497821         0.0   \n",
              "\n",
              "                                25%         50%         75%         max  \n",
              "ID                       98823595.5  98847190.0  98870784.5  98894379.0  \n",
              "Age                            27.0        40.0        51.0        85.0  \n",
              "Travel_Distance              1359.0      1923.0      2538.0      6951.0  \n",
              "Departure_Delay_in_Mins         0.0         0.0        12.0      1592.0  \n",
              "Arrival_Delay_in_Mins           0.0         0.0        13.0      1584.0  \n",
              "Overall_Experience              0.0         1.0         1.0         1.0  "
            ]
          },
          "execution_count": 67,
          "metadata": {},
          "output_type": "execute_result"
        }
      ],
      "source": [
        "### Summary of Numerical Columns\n",
        "df.describe().T"
      ]
    },
    {
      "attachments": {},
      "cell_type": "markdown",
      "id": "YeZVgp1nyvIE",
      "metadata": {
        "id": "YeZVgp1nyvIE"
      },
      "source": [
        "**Univariate Analysis**"
      ]
    },
    {
      "cell_type": "code",
      "execution_count": 68,
      "id": "FFdsUWhSfAd9",
      "metadata": {
        "id": "FFdsUWhSfAd9"
      },
      "outputs": [],
      "source": [
        "## Create a univariate analysis function that takes the dataframe, the column to be analyzed and a flag to check if the column is an id column\n",
        "## This function can be used to analyze all the columns in the data without rewriting any piece of plotting code\n",
        "def uni_analyze(df,col,id_col=False):\n",
        "  print(\"-\"*300)\n",
        "  print(f'\\nUnivariate Analysis of {col}\\n')\n",
        "  \"\"\"Check if the given column is an id column\"\"\"\n",
        "  if id_col==False:\n",
        "    \"\"\"If not an id column, check if the column is of 'object' dtype\"\"\"\n",
        "    if df[col].dtype=='object':\n",
        "      \"\"\"Print the value counts for the column\"\"\"\n",
        "      print(f'Unique Set of Values for {col}:\\n{df[col].value_counts()}\\n')\n",
        "      plt.figure(figsize = (15,5))\n",
        "      \"\"\"If the number of unique entries in the column is less than 20, Plot the countplot\"\"\"\n",
        "      \"\"\"Too many unique values will lead to crowding of the plot\"\"\"\n",
        "      if df[col].nunique()<20:\n",
        "        fig = sns.countplot(data = df, x = col)\n",
        "        for patch in fig.patches:\n",
        "          label = patch.get_height()\n",
        "          x = patch.get_x() + patch.get_width() / 2  # width of the plot\n",
        "          y = patch.get_height()\n",
        "          fig.annotate(label,(x,y))\n",
        "      else:\n",
        "        print('\\nToo many distinct variables to be plotted on a countplot!!')\n",
        "      plt.show()\n",
        "\n",
        "    else:\n",
        "      \"\"\"If not an 'object' column, i.e. for numeric columns\"\"\"\n",
        "      \"\"\"Print the Mean, Median, Min, Max and Skew of the column\"\"\"\n",
        "      print(f'Stats for the column {col}:\\n Mean: {df[col].mean()}\\n Min: {df[col].min()}\\n Max: {df[col].max()}\\n Median: {df[col].median()}\\n Skew: {df[col].skew()}\\n')\n",
        "\n",
        "      f, (hist_plot, box_plot) = plt.subplots(\n",
        "        nrows=2,  # Number of rows of the subplot grid= 2\n",
        "        sharex=True,  # x-axis will be shared among all subplots\n",
        "        gridspec_kw={\"height_ratios\": (0.75, 0.25)},\n",
        "        figsize=(15,5)\n",
        "      )\n",
        "      \"\"\"Subplot Histogram of the column\"\"\"\n",
        "      sns.histplot(data=df,x=col, ax=hist_plot, kde=False) ## Histogram\n",
        "      \"\"\"Plot the boxplot of the column\"\"\"\n",
        "      sns.boxplot(data=df,x=col, ax=box_plot) ## Boxplot\n",
        "      \"\"\"Add Mean to histogram\"\"\"\n",
        "      hist_plot.axvline(df[col].mean())\n",
        "      \"\"\"Add Median to histplot\"\"\"\n",
        "      hist_plot.axvline(df[col].mean())\n",
        "      f.suptitle(f'Boxplot & Histogram for {col}')\n",
        "      plt.show()\n",
        "\n",
        "  else:\n",
        "    \"\"\"If an ID column, show the total number of unique counts in the column and print sample data\"\"\"\n",
        "    print(f'Unique Values for {col}:\\n{df[col].nunique()}')\n",
        "    print(f'\\n Sample data\\n')\n",
        "    print(df[col].head())"
      ]
    },
    {
      "cell_type": "code",
      "execution_count": 69,
      "id": "jr5ti1Ttyp44",
      "metadata": {
        "colab": {
          "base_uri": "https://localhost:8080/",
          "height": 1000
        },
        "id": "jr5ti1Ttyp44",
        "outputId": "d5f3154e-52b7-44b8-8b3d-85b1ff2a6e5f"
      },
      "outputs": [],
      "source": [
        "# ## To Analyze All Columns in a single output block\n",
        "# ## Creating an analyze function helps iterate over the df.columns list and print all outputs in one output block\n",
        "# for column in categorical_columns:\n",
        "#   uni_analyze(df,column)"
      ]
    },
    {
      "cell_type": "code",
      "execution_count": 70,
      "id": "bc2bb4a8",
      "metadata": {},
      "outputs": [],
      "source": [
        "# ## To Analyze All Columns in a single output block\n",
        "# ## Creating an analyze function helps iterate over the df.columns list and print all outputs in one output block\n",
        "# for column in numeric_columns:\n",
        "#   uni_analyze(df,column)"
      ]
    },
    {
      "attachments": {},
      "cell_type": "markdown",
      "id": "Pv0qiySMy0lh",
      "metadata": {
        "id": "Pv0qiySMy0lh"
      },
      "source": [
        "**Multivariate Analysis**"
      ]
    },
    {
      "cell_type": "code",
      "execution_count": 71,
      "id": "EGFf_Lrsq4Y5",
      "metadata": {
        "id": "EGFf_Lrsq4Y5"
      },
      "outputs": [],
      "source": [
        "## Barplots and distplots are some of the best plots for multivariate analysis\n",
        "### Distribution Plot\n",
        "def distribution_plot(data, predictor, target):\n",
        "\n",
        "    fig, axs = plt.subplots(nrows=1, ncols=2, figsize=(15, 7))\n",
        "\n",
        "    target_uniq = data[target].unique()\n",
        "\n",
        "    axs[0].set_title(\"Distribution of target for target=\" + str(target_uniq[0]))\n",
        "    sns.histplot(\n",
        "        data=data[data[target] == target_uniq[0]],\n",
        "        x=predictor,\n",
        "        kde=True,\n",
        "        ax=axs[0],\n",
        "        color=\"teal\",\n",
        "        stat=\"density\",\n",
        "    )\n",
        "\n",
        "    axs[1].set_title(\"Distribution of target for target=\" + str(target_uniq[1]))\n",
        "    sns.histplot(\n",
        "        data=data[data[target] == target_uniq[1]],\n",
        "        x=predictor,\n",
        "        kde=True,\n",
        "        ax=axs[1],\n",
        "        color=\"orange\",\n",
        "        stat=\"density\",\n",
        "    )\n",
        "\n",
        "    plt.show()\n",
        "### Bar Plot\n",
        "def bar_plot(df,feature, target):\n",
        "    plt.figure(figsize=(15,7))\n",
        "    ## Get feature wise percentage split of converting and non-converting\n",
        "    plot_df = pd.crosstab(df[feature], df[target]).sort_values(by=df[target].value_counts().index[-1], ascending=False)\n",
        "    plot_df.plot(kind=\"bar\", stacked=True)\n",
        "    plt.xticks(rotation = 60)\n",
        "    plt.show()\n",
        "\n",
        "## Create a dataframe to observe the conversion rate basis given column\n",
        "def check_conversion_split(df,col,target):\n",
        "  temp_df = df.groupby([col,target]).agg({'ID':'count'}).reset_index()\n",
        "  temp_df = temp_df.pivot(index=col, columns=target, values='ID').reset_index()\n",
        "  temp_df['conversion_rate'] = temp_df[1]*100/(temp_df[0]+temp_df[1])\n",
        "  return temp_df\n",
        "\n",
        "## This functions take the dataframe and the feature & target columns as input and outputs the stacked barplot and distribution plots\n",
        "## Rather than rewriting the code for each pair of variables, this function can be reused with different col_list to get desired output\n",
        "def multi_analyze(df,feature, target):\n",
        "  bar_plot(df,feature, target)\n",
        "  print(\"-\"*300)\n",
        "  distribution_plot(data=df,predictor=feature,target=target)\n",
        "  check_conversion_split(df,feature,target)"
      ]
    },
    {
      "attachments": {},
      "cell_type": "markdown",
      "id": "4mGqUsLyhmDV",
      "metadata": {
        "id": "4mGqUsLyhmDV"
      },
      "source": [
        "**Correlation Matrix**"
      ]
    },
    {
      "cell_type": "code",
      "execution_count": 72,
      "id": "_FSX33J-hhCk",
      "metadata": {
        "colab": {
          "base_uri": "https://localhost:8080/",
          "height": 753
        },
        "id": "_FSX33J-hhCk",
        "outputId": "c7514b16-7dca-4a7a-c35e-ae3d70ff43eb"
      },
      "outputs": [],
      "source": [
        "# ## Plot Correlation Matrix\n",
        "# corr_columns = df.select_dtypes(include=np.number).columns.tolist()\n",
        "\n",
        "# plt.figure(figsize=(12, 7))\n",
        "# sns.heatmap(\n",
        "#     df[corr_columns].corr(), annot=True, vmin=-1, vmax=1, fmt=\".2f\", cmap=\"Spectral\")\n",
        "# plt.show()"
      ]
    },
    {
      "cell_type": "code",
      "execution_count": 73,
      "id": "oJozDbvFrERr",
      "metadata": {
        "colab": {
          "base_uri": "https://localhost:8080/",
          "height": 1000
        },
        "id": "oJozDbvFrERr",
        "outputId": "70a772d3-a580-4580-a995-fdd5621e5dfb"
      },
      "outputs": [],
      "source": [
        "# for col in categorical_columns:\n",
        "#     multi_analyze(df, col, target_col)"
      ]
    },
    {
      "attachments": {},
      "cell_type": "markdown",
      "id": "alleged-spirituality",
      "metadata": {
        "id": "alleged-spirituality"
      },
      "source": [
        "## Data Preprocessing\n",
        "\n",
        "- Missing value treatment (if needed): **No missing value**\n",
        "- Feature engineering (if needed): **Carried out below**\n",
        "- Outlier detection and treatment (if needed): **Carried out below**\n",
        "- Preparing data for modeling: **Carried out below**"
      ]
    },
    {
      "attachments": {},
      "cell_type": "markdown",
      "id": "tzRTnPRfOx0U",
      "metadata": {
        "id": "tzRTnPRfOx0U"
      },
      "source": [
        "### Treatment and Transformations"
      ]
    },
    {
      "cell_type": "code",
      "execution_count": 74,
      "id": "06cdc99a",
      "metadata": {},
      "outputs": [],
      "source": [
        "def fill_na(data):\n",
        "    for col in data.columns:\n",
        "        if col in categorical_columns:\n",
        "            mode = data[col].mode().values[0]\n",
        "            data[col].fillna(mode, inplace=True)\n",
        "        else:\n",
        "            median = data[col].median()\n",
        "            data[col].fillna(median, inplace=True)\n",
        "    \n",
        "    return data\n",
        "\n",
        "df = fill_na(df)"
      ]
    },
    {
      "cell_type": "code",
      "execution_count": 75,
      "id": "ef09214b",
      "metadata": {},
      "outputs": [],
      "source": [
        "out_df = fill_na(test_df)"
      ]
    },
    {
      "attachments": {},
      "cell_type": "markdown",
      "id": "1_v96pso1gqz",
      "metadata": {
        "id": "1_v96pso1gqz"
      },
      "source": [
        "**Outlier Treatment**"
      ]
    },
    {
      "cell_type": "code",
      "execution_count": 76,
      "id": "939706f8",
      "metadata": {},
      "outputs": [
        {
          "data": {
            "text/plain": [
              "['Age',\n",
              " 'Travel_Distance',\n",
              " 'Departure_Delay_in_Mins',\n",
              " 'Arrival_Delay_in_Mins',\n",
              " 'Overall_Experience']"
            ]
          },
          "execution_count": 76,
          "metadata": {},
          "output_type": "execute_result"
        }
      ],
      "source": [
        "numeric_columns"
      ]
    },
    {
      "cell_type": "code",
      "execution_count": 77,
      "id": "d4b2b7b4",
      "metadata": {},
      "outputs": [],
      "source": [
        "outlier_columns = numeric_columns\n",
        "outlier_columns.remove(target_col)"
      ]
    },
    {
      "cell_type": "code",
      "execution_count": 78,
      "id": "GSDcmoWk1lcM",
      "metadata": {
        "colab": {
          "base_uri": "https://localhost:8080/",
          "height": 250
        },
        "id": "GSDcmoWk1lcM",
        "outputId": "59075209-fc87-4bc2-f48a-8df6bc5eb8e7"
      },
      "outputs": [
        {
          "data": {
            "image/png": "[encoded data removed]",
            "text/plain": [
              "<Figure size 1500x1000 with 4 Axes>"
            ]
          },
          "metadata": {},
          "output_type": "display_data"
        }
      ],
      "source": [
        "### Check for outliers\n",
        "plt.figure(figsize=(15, 10))\n",
        "for col, col_name in enumerate(outlier_columns):\n",
        "    plt.subplot(4, 4, col + 1)\n",
        "    sns.boxplot(data=df,x=col_name)\n",
        "    plt.title(col_name)\n",
        "\n",
        "plt.show()"
      ]
    },
    {
      "cell_type": "code",
      "execution_count": 79,
      "id": "dd47777b",
      "metadata": {},
      "outputs": [
        {
          "data": {
            "image/png": "[encoded data removed]",
            "text/plain": [
              "<Figure size 1500x1000 with 4 Axes>"
            ]
          },
          "metadata": {},
          "output_type": "display_data"
        }
      ],
      "source": [
        "### Check for outliers\n",
        "plt.figure(figsize=(15, 10))\n",
        "for col, col_name in enumerate(outlier_columns):\n",
        "    plt.subplot(4, 4, col + 1)\n",
        "    sns.boxplot(data=out_df,x=col_name)\n",
        "    plt.title(col_name)\n",
        "\n",
        "plt.show()"
      ]
    },
    {
      "cell_type": "code",
      "execution_count": 80,
      "id": "wNJrGD7q1as_",
      "metadata": {
        "id": "wNJrGD7q1as_"
      },
      "outputs": [],
      "source": [
        "### Cap extreme values at 5th and 95th percentile\n",
        "\n",
        "def cap_column_values(df, column_name):\n",
        "    # Calculate the 5th and 95th percentiles\n",
        "    lower_bound = df[column_name].quantile(0.05)\n",
        "    upper_bound = df[column_name].quantile(0.95)\n",
        "\n",
        "    # Cap the column values between the percentiles\n",
        "    df[column_name] = df[column_name].clip(lower=lower_bound, upper=upper_bound)\n",
        "    return df\n",
        "\n",
        "for col in numeric_columns:\n",
        "  df = cap_column_values(df,col)\n",
        "  out_df = cap_column_values(out_df,col)"
      ]
    },
    {
      "cell_type": "code",
      "execution_count": 81,
      "id": "3c137888",
      "metadata": {},
      "outputs": [
        {
          "data": {
            "image/png": "[encoded data removed]",
            "text/plain": [
              "<Figure size 1500x1000 with 4 Axes>"
            ]
          },
          "metadata": {},
          "output_type": "display_data"
        }
      ],
      "source": [
        "### Check for outliers\n",
        "plt.figure(figsize=(15, 10))\n",
        "for col, col_name in enumerate(outlier_columns):\n",
        "    plt.subplot(4, 4, col + 1)\n",
        "    sns.boxplot(data=df,x=col_name)\n",
        "    plt.title(col_name)\n",
        "\n",
        "plt.show()"
      ]
    },
    {
      "cell_type": "code",
      "execution_count": 82,
      "id": "034b42d8",
      "metadata": {},
      "outputs": [
        {
          "data": {
            "image/png": "[encoded data removed]",
            "text/plain": [
              "<Figure size 1500x1000 with 4 Axes>"
            ]
          },
          "metadata": {},
          "output_type": "display_data"
        }
      ],
      "source": [
        "### Check for outliers\n",
        "plt.figure(figsize=(15, 10))\n",
        "for col, col_name in enumerate(outlier_columns):\n",
        "    plt.subplot(4, 4, col + 1)\n",
        "    sns.boxplot(data=out_df,x=col_name)\n",
        "    plt.title(col_name)\n",
        "\n",
        "plt.show()"
      ]
    },
    {
      "attachments": {},
      "cell_type": "markdown",
      "id": "RsRD-XiiHwP_",
      "metadata": {
        "id": "RsRD-XiiHwP_"
      },
      "source": [
        "**Creating dummy variables for categorical Variables**"
      ]
    },
    {
      "cell_type": "code",
      "execution_count": 83,
      "id": "_0EXcRo-HvLT",
      "metadata": {
        "id": "_0EXcRo-HvLT"
      },
      "outputs": [],
      "source": [
        "# Creating dummy variables\n",
        "df = pd.get_dummies(data = df, columns = categorical_columns, drop_first = True)\n",
        "out_df = pd.get_dummies(data = out_df, columns = categorical_columns, drop_first = True)\n",
        "\n",
        "drop_cols = list(set(df.columns)-set(out_df.columns))\n",
        "drop_cols.remove(target_col)\n",
        "df = df.drop(columns=drop_cols, axis=0)"
      ]
    },
    {
      "attachments": {},
      "cell_type": "markdown",
      "id": "ll8rAmGQKxwe",
      "metadata": {
        "id": "ll8rAmGQKxwe"
      },
      "source": [
        "**Removing Skewness**"
      ]
    },
    {
      "cell_type": "code",
      "execution_count": null,
      "id": "OFvO-9LZLBpJ",
      "metadata": {
        "colab": {
          "base_uri": "https://localhost:8080/"
        },
        "id": "OFvO-9LZLBpJ",
        "outputId": "f8fa0dc1-a907-4247-cb71-0a3abd567b83"
      },
      "outputs": [],
      "source": [
        "## Check Skewness in the data\n",
        "for col in numeric_columns:\n",
        "  print(col, df[col].skew())"
      ]
    },
    {
      "cell_type": "code",
      "execution_count": null,
      "id": "80c54564",
      "metadata": {},
      "outputs": [],
      "source": [
        "## Check Skewness in the data\n",
        "for col in numeric_columns:\n",
        "  print(col, out_df[col].skew())"
      ]
    },
    {
      "cell_type": "code",
      "execution_count": null,
      "id": "Tlo7WgyrK2R1",
      "metadata": {
        "id": "Tlo7WgyrK2R1"
      },
      "outputs": [],
      "source": [
        "# def remove_skewness(df, column_name):\n",
        "#     # Apply transformation to the specified column\n",
        "#     if df[column_name].skew()>=0:\n",
        "#       df[column_name] = np.sqrt(df[column_name])\n",
        "#     else:\n",
        "#       transformed_data, _ = boxcox(df[column_name])\n",
        "#       df[column_name] = transformed_data\n",
        "\n",
        "#     return df\n",
        "\n",
        "\n",
        "# for col in numeric_columns:\n",
        "#   df = remove_skewness(df,col)"
      ]
    },
    {
      "attachments": {},
      "cell_type": "markdown",
      "id": "s6p8FLeIPAlY",
      "metadata": {
        "id": "s6p8FLeIPAlY"
      },
      "source": [
        "**Define X, Y, Test and Train**"
      ]
    },
    {
      "cell_type": "code",
      "execution_count": 84,
      "id": "0sn3qGmvPFJi",
      "metadata": {
        "id": "0sn3qGmvPFJi"
      },
      "outputs": [],
      "source": [
        "X = df.drop([target_col,id_col], axis=1)\n",
        "out_df = out_df.drop([id_col], axis=1)\n",
        "Y = df[target_col]\n",
        "\n",
        "## Enable Stratified Sampling while performing split using stratify argument\n",
        "X_train, X_test, y_train, y_test = train_test_split(X, Y, test_size=0.30, random_state=42, stratify=Y)"
      ]
    },
    {
      "attachments": {},
      "cell_type": "markdown",
      "id": "p6YzLj3JQVJU",
      "metadata": {
        "id": "p6YzLj3JQVJU"
      },
      "source": [
        "**Scaling the data**"
      ]
    },
    {
      "cell_type": "code",
      "execution_count": 85,
      "id": "PYZm7udUPzCh",
      "metadata": {
        "id": "PYZm7udUPzCh"
      },
      "outputs": [],
      "source": [
        "# Scaling the data\n",
        "sc=StandardScaler()\n",
        "\n",
        "# Fit_transform on train data\n",
        "X_train_scaled=sc.fit_transform(X_train)\n",
        "X_train=pd.DataFrame(X_train_scaled, columns=X.columns)\n",
        "\n",
        "# Transform on test data\n",
        "X_test_scaled=sc.transform(X_test)\n",
        "X_test=pd.DataFrame(X_test_scaled, columns=X.columns)\n",
        "\n",
        "out_df_scaled = sc.transform(out_df)\n",
        "out_df = pd.DataFrame(out_df_scaled, columns=X.columns)"
      ]
    },
    {
      "cell_type": "code",
      "execution_count": 86,
      "id": "beLyqfZF435l",
      "metadata": {
        "colab": {
          "base_uri": "https://localhost:8080/"
        },
        "id": "beLyqfZF435l",
        "outputId": "fc67edb9-eca0-40b2-9392-bcc6d2a17143"
      },
      "outputs": [
        {
          "name": "stdout",
          "output_type": "stream",
          "text": [
            "Percentage of classes in training set:\n",
            "Overall_Experience\n",
            "1    0.546659\n",
            "0    0.453341\n",
            "Name: proportion, dtype: float64\n",
            "Percentage of classes in test set:\n",
            "Overall_Experience\n",
            "1    0.546655\n",
            "0    0.453345\n",
            "Name: proportion, dtype: float64\n"
          ]
        }
      ],
      "source": [
        "print(\"Percentage of classes in training set:\")\n",
        "print(y_train.value_counts(normalize=True))\n",
        "print(\"Percentage of classes in test set:\")\n",
        "print(y_test.value_counts(normalize=True))"
      ]
    },
    {
      "attachments": {},
      "cell_type": "markdown",
      "id": "BJBuHDYG1UpU",
      "metadata": {
        "id": "BJBuHDYG1UpU"
      },
      "source": [
        "##Key Notes before Modelling\n",
        "\n",
        "**What is the importanct business KPI here?**\n",
        "- We need to minimize false negatives or Type II error, that is customers who would actually convert but the model predicts as non-converting since this would lead to loss of potential customer and business loss.\n",
        "- Reducing Type I error can help save company resources as those would be customers that were not going to convert but the model predicts as potential customers. For a startup, burn rates are usually less of a concern as compared to the conversion rates.\n",
        "\n",
        "**What is the importanct model metric here?**\n",
        "- Since we wish to have less False Negative and more True Positives, the important metric for us to score would be **Recall** in order to increase the ratio of True Positives to True Positives+False Negatives"
      ]
    },
    {
      "attachments": {},
      "cell_type": "markdown",
      "id": "aPRMje3M2bTO",
      "metadata": {
        "id": "aPRMje3M2bTO"
      },
      "source": [
        "**Define Function to Calculate Performance Metrics**"
      ]
    },
    {
      "cell_type": "code",
      "execution_count": 124,
      "id": "8iITBwAu2Y5T",
      "metadata": {
        "id": "8iITBwAu2Y5T"
      },
      "outputs": [],
      "source": [
        "def metrics_score(actual, predicted):\n",
        "    print(classification_report(actual, predicted))\n",
        "    # conf_mat = confusion_matrix(actual, predicted)\n",
        "\n",
        "    # # plt.figure(figsize = (8, 5))\n",
        "    # # sns.heatmap(conf_mat, annot = True,  fmt = '.2f', xticklabels = ['Not Converted', 'Converted'], yticklabels = ['Not Converted', 'Converted'])\n",
        "    # # plt.ylabel('Actual')\n",
        "    # # plt.xlabel('Predicted')\n",
        "    # # plt.show()"
      ]
    },
    {
      "attachments": {},
      "cell_type": "markdown",
      "id": "IWesKjYJ3s4G",
      "metadata": {
        "id": "IWesKjYJ3s4G"
      },
      "source": [
        "Get Class Imbalance to initialize weights of the trees. The weights are (1 - class imbalance%) for a class"
      ]
    },
    {
      "cell_type": "code",
      "execution_count": 87,
      "id": "2Br_7vGA28Ek",
      "metadata": {
        "colab": {
          "base_uri": "https://localhost:8080/",
          "height": 112
        },
        "id": "2Br_7vGA28Ek",
        "outputId": "1d2bdcb6-3e43-49f2-9fe8-36f665677e18"
      },
      "outputs": [],
      "source": [
        "class_df = df.groupby('Overall_Experience').agg({'ID':'count'}).reset_index()\n",
        "column_sums = class_df.sum()\n",
        "class_df = class_df.iloc[:, 1:].apply(lambda x: (x / column_sums[x.name]), axis=0)\n",
        "class_df_list = class_df.ID\n",
        "class_weight = {0: class_df_list[1], 1:class_df_list[0]}"
      ]
    },
    {
      "attachments": {},
      "cell_type": "markdown",
      "id": "amazing-fluid",
      "metadata": {
        "id": "amazing-fluid"
      },
      "source": [
        "## Building a Decision Tree model"
      ]
    },
    {
      "cell_type": "code",
      "execution_count": 88,
      "id": "neither-hydrogen",
      "metadata": {
        "colab": {
          "base_uri": "https://localhost:8080/",
          "height": 75
        },
        "id": "neither-hydrogen",
        "outputId": "24f47f64-ecc7-4713-c4c7-691e4a5f0f30"
      },
      "outputs": [
        {
          "data": {
            "text/html": [
              "<style>#sk-container-id-1 {color: black;background-color: white;}#sk-container-id-1 pre{padding: 0;}#sk-container-id-1 div.sk-toggleable {background-color: white;}#sk-container-id-1 label.sk-toggleable__label {cursor: pointer;display: block;width: 100%;margin-bottom: 0;padding: 0.3em;box-sizing: border-box;text-align: center;}#sk-container-id-1 label.sk-toggleable__label-arrow:before {content: \"▸\";float: left;margin-right: 0.25em;color: #696969;}#sk-container-id-1 label.sk-toggleable__label-arrow:hover:before {color: black;}#sk-container-id-1 div.sk-estimator:hover label.sk-toggleable__label-arrow:before {color: black;}#sk-container-id-1 div.sk-toggleable__content {max-height: 0;max-width: 0;overflow: hidden;text-align: left;background-color: #f0f8ff;}#sk-container-id-1 div.sk-toggleable__content pre {margin: 0.2em;color: black;border-radius: 0.25em;background-color: #f0f8ff;}#sk-container-id-1 input.sk-toggleable__control:checked~div.sk-toggleable__content {max-height: 200px;max-width: 100%;overflow: auto;}#sk-container-id-1 input.sk-toggleable__control:checked~label.sk-toggleable__label-arrow:before {content: \"▾\";}#sk-container-id-1 div.sk-estimator input.sk-toggleable__control:checked~label.sk-toggleable__label {background-color: #d4ebff;}#sk-container-id-1 div.sk-label input.sk-toggleable__control:checked~label.sk-toggleable__label {background-color: #d4ebff;}#sk-container-id-1 input.sk-hidden--visually {border: 0;clip: rect(1px 1px 1px 1px);clip: rect(1px, 1px, 1px, 1px);height: 1px;margin: -1px;overflow: hidden;padding: 0;position: absolute;width: 1px;}#sk-container-id-1 div.sk-estimator {font-family: monospace;background-color: #f0f8ff;border: 1px dotted black;border-radius: 0.25em;box-sizing: border-box;margin-bottom: 0.5em;}#sk-container-id-1 div.sk-estimator:hover {background-color: #d4ebff;}#sk-container-id-1 div.sk-parallel-item::after {content: \"\";width: 100%;border-bottom: 1px solid gray;flex-grow: 1;}#sk-container-id-1 div.sk-label:hover label.sk-toggleable__label {background-color: #d4ebff;}#sk-container-id-1 div.sk-serial::before {content: \"\";position: absolute;border-left: 1px solid gray;box-sizing: border-box;top: 0;bottom: 0;left: 50%;z-index: 0;}#sk-container-id-1 div.sk-serial {display: flex;flex-direction: column;align-items: center;background-color: white;padding-right: 0.2em;padding-left: 0.2em;position: relative;}#sk-container-id-1 div.sk-item {position: relative;z-index: 1;}#sk-container-id-1 div.sk-parallel {display: flex;align-items: stretch;justify-content: center;background-color: white;position: relative;}#sk-container-id-1 div.sk-item::before, #sk-container-id-1 div.sk-parallel-item::before {content: \"\";position: absolute;border-left: 1px solid gray;box-sizing: border-box;top: 0;bottom: 0;left: 50%;z-index: -1;}#sk-container-id-1 div.sk-parallel-item {display: flex;flex-direction: column;z-index: 1;position: relative;background-color: white;}#sk-container-id-1 div.sk-parallel-item:first-child::after {align-self: flex-end;width: 50%;}#sk-container-id-1 div.sk-parallel-item:last-child::after {align-self: flex-start;width: 50%;}#sk-container-id-1 div.sk-parallel-item:only-child::after {width: 0;}#sk-container-id-1 div.sk-dashed-wrapped {border: 1px dashed gray;margin: 0 0.4em 0.5em 0.4em;box-sizing: border-box;padding-bottom: 0.4em;background-color: white;}#sk-container-id-1 div.sk-label label {font-family: monospace;font-weight: bold;display: inline-block;line-height: 1.2em;}#sk-container-id-1 div.sk-label-container {text-align: center;}#sk-container-id-1 div.sk-container {/* jupyter's `normalize.less` sets `[hidden] { display: none; }` but bootstrap.min.css set `[hidden] { display: none !important; }` so we also need the `!important` here to be able to override the default hidden behavior on the sphinx rendered scikit-learn.org. See: https://github.com/scikit-learn/scikit-learn/issues/21755 */display: inline-block !important;position: relative;}#sk-container-id-1 div.sk-text-repr-fallback {display: none;}</style><div id=\"sk-container-id-1\" class=\"sk-top-container\"><div class=\"sk-text-repr-fallback\"><pre>DecisionTreeClassifier(class_weight={0: 0.5466576251072802,\n",
              "                                     1: 0.4533423748927198},\n",
              "                       random_state=1)</pre><b>In a Jupyter environment, please rerun this cell to show the HTML representation or trust the notebook. <br />On GitHub, the HTML representation is unable to render, please try loading this page with nbviewer.org.</b></div><div class=\"sk-container\" hidden><div class=\"sk-item\"><div class=\"sk-estimator sk-toggleable\"><input class=\"sk-toggleable__control sk-hidden--visually\" id=\"sk-estimator-id-1\" type=\"checkbox\" checked><label for=\"sk-estimator-id-1\" class=\"sk-toggleable__label sk-toggleable__label-arrow\">DecisionTreeClassifier</label><div class=\"sk-toggleable__content\"><pre>DecisionTreeClassifier(class_weight={0: 0.5466576251072802,\n",
              "                                     1: 0.4533423748927198},\n",
              "                       random_state=1)</pre></div></div></div></div></div>"
            ],
            "text/plain": [
              "DecisionTreeClassifier(class_weight={0: 0.5466576251072802,\n",
              "                                     1: 0.4533423748927198},\n",
              "                       random_state=1)"
            ]
          },
          "execution_count": 88,
          "metadata": {},
          "output_type": "execute_result"
        }
      ],
      "source": [
        "dt = DecisionTreeClassifier(class_weight = class_weight, random_state = 1)\n",
        "\n",
        "dt.fit(X_train, y_train)"
      ]
    },
    {
      "cell_type": "code",
      "execution_count": 125,
      "id": "z4jSKFuzRZ9Q",
      "metadata": {
        "colab": {
          "base_uri": "https://localhost:8080/",
          "height": 621
        },
        "id": "z4jSKFuzRZ9Q",
        "outputId": "b33a9d36-f635-4b52-c9eb-560869829860"
      },
      "outputs": [
        {
          "name": "stdout",
          "output_type": "stream",
          "text": [
            "              precision    recall  f1-score   support\n",
            "\n",
            "           0       1.00      1.00      1.00     29950\n",
            "           1       1.00      1.00      1.00     36115\n",
            "\n",
            "    accuracy                           1.00     66065\n",
            "   macro avg       1.00      1.00      1.00     66065\n",
            "weighted avg       1.00      1.00      1.00     66065\n",
            "\n"
          ]
        }
      ],
      "source": [
        "# Checking performance on the training dataset\n",
        "y_train_pred_dt = dt.predict(X_train)\n",
        "metrics_score(y_train, y_train_pred_dt)\n"
      ]
    },
    {
      "attachments": {},
      "cell_type": "markdown",
      "id": "vCjChr2jT6tG",
      "metadata": {
        "id": "vCjChr2jT6tG"
      },
      "source": [
        "**Observation:**\n",
        "\n",
        "- **100%** score for all metrics"
      ]
    },
    {
      "cell_type": "code",
      "execution_count": 92,
      "id": "t08_Vd8PRmjf",
      "metadata": {
        "colab": {
          "base_uri": "https://localhost:8080/",
          "height": 621
        },
        "id": "t08_Vd8PRmjf",
        "outputId": "7c351565-ff4a-4e75-dea0-5f7881b79ee9"
      },
      "outputs": [
        {
          "name": "stdout",
          "output_type": "stream",
          "text": [
            "              precision    recall  f1-score   support\n",
            "\n",
            "           0       0.92      0.92      0.92     12836\n",
            "           1       0.93      0.94      0.93     15478\n",
            "\n",
            "    accuracy                           0.93     28314\n",
            "   macro avg       0.93      0.93      0.93     28314\n",
            "weighted avg       0.93      0.93      0.93     28314\n",
            "\n"
          ]
        },
        {
          "data": {
            "image/png": "[encoded data removed]",
            "text/plain": [
              "<Figure size 800x500 with 2 Axes>"
            ]
          },
          "metadata": {},
          "output_type": "display_data"
        }
      ],
      "source": [
        "# Checking performance on the test dataset\n",
        "y_test_pred_dt = dt.predict(X_test)\n",
        "\n",
        "metrics_score(y_test, y_test_pred_dt)"
      ]
    },
    {
      "attachments": {},
      "cell_type": "markdown",
      "id": "Mxq5m4uzSTNL",
      "metadata": {
        "id": "Mxq5m4uzSTNL"
      },
      "source": [
        "**Hyperparameter Tuning for Decision Tree**"
      ]
    },
    {
      "cell_type": "code",
      "execution_count": 93,
      "id": "9_TpZuyFSXax",
      "metadata": {
        "colab": {
          "base_uri": "https://localhost:8080/",
          "height": 92
        },
        "id": "9_TpZuyFSXax",
        "outputId": "6fc3f6f4-36f0-45ce-9488-2ad129234de8"
      },
      "outputs": [
        {
          "data": {
            "text/html": [
              "<style>#sk-container-id-2 {color: black;background-color: white;}#sk-container-id-2 pre{padding: 0;}#sk-container-id-2 div.sk-toggleable {background-color: white;}#sk-container-id-2 label.sk-toggleable__label {cursor: pointer;display: block;width: 100%;margin-bottom: 0;padding: 0.3em;box-sizing: border-box;text-align: center;}#sk-container-id-2 label.sk-toggleable__label-arrow:before {content: \"▸\";float: left;margin-right: 0.25em;color: #696969;}#sk-container-id-2 label.sk-toggleable__label-arrow:hover:before {color: black;}#sk-container-id-2 div.sk-estimator:hover label.sk-toggleable__label-arrow:before {color: black;}#sk-container-id-2 div.sk-toggleable__content {max-height: 0;max-width: 0;overflow: hidden;text-align: left;background-color: #f0f8ff;}#sk-container-id-2 div.sk-toggleable__content pre {margin: 0.2em;color: black;border-radius: 0.25em;background-color: #f0f8ff;}#sk-container-id-2 input.sk-toggleable__control:checked~div.sk-toggleable__content {max-height: 200px;max-width: 100%;overflow: auto;}#sk-container-id-2 input.sk-toggleable__control:checked~label.sk-toggleable__label-arrow:before {content: \"▾\";}#sk-container-id-2 div.sk-estimator input.sk-toggleable__control:checked~label.sk-toggleable__label {background-color: #d4ebff;}#sk-container-id-2 div.sk-label input.sk-toggleable__control:checked~label.sk-toggleable__label {background-color: #d4ebff;}#sk-container-id-2 input.sk-hidden--visually {border: 0;clip: rect(1px 1px 1px 1px);clip: rect(1px, 1px, 1px, 1px);height: 1px;margin: -1px;overflow: hidden;padding: 0;position: absolute;width: 1px;}#sk-container-id-2 div.sk-estimator {font-family: monospace;background-color: #f0f8ff;border: 1px dotted black;border-radius: 0.25em;box-sizing: border-box;margin-bottom: 0.5em;}#sk-container-id-2 div.sk-estimator:hover {background-color: #d4ebff;}#sk-container-id-2 div.sk-parallel-item::after {content: \"\";width: 100%;border-bottom: 1px solid gray;flex-grow: 1;}#sk-container-id-2 div.sk-label:hover label.sk-toggleable__label {background-color: #d4ebff;}#sk-container-id-2 div.sk-serial::before {content: \"\";position: absolute;border-left: 1px solid gray;box-sizing: border-box;top: 0;bottom: 0;left: 50%;z-index: 0;}#sk-container-id-2 div.sk-serial {display: flex;flex-direction: column;align-items: center;background-color: white;padding-right: 0.2em;padding-left: 0.2em;position: relative;}#sk-container-id-2 div.sk-item {position: relative;z-index: 1;}#sk-container-id-2 div.sk-parallel {display: flex;align-items: stretch;justify-content: center;background-color: white;position: relative;}#sk-container-id-2 div.sk-item::before, #sk-container-id-2 div.sk-parallel-item::before {content: \"\";position: absolute;border-left: 1px solid gray;box-sizing: border-box;top: 0;bottom: 0;left: 50%;z-index: -1;}#sk-container-id-2 div.sk-parallel-item {display: flex;flex-direction: column;z-index: 1;position: relative;background-color: white;}#sk-container-id-2 div.sk-parallel-item:first-child::after {align-self: flex-end;width: 50%;}#sk-container-id-2 div.sk-parallel-item:last-child::after {align-self: flex-start;width: 50%;}#sk-container-id-2 div.sk-parallel-item:only-child::after {width: 0;}#sk-container-id-2 div.sk-dashed-wrapped {border: 1px dashed gray;margin: 0 0.4em 0.5em 0.4em;box-sizing: border-box;padding-bottom: 0.4em;background-color: white;}#sk-container-id-2 div.sk-label label {font-family: monospace;font-weight: bold;display: inline-block;line-height: 1.2em;}#sk-container-id-2 div.sk-label-container {text-align: center;}#sk-container-id-2 div.sk-container {/* jupyter's `normalize.less` sets `[hidden] { display: none; }` but bootstrap.min.css set `[hidden] { display: none !important; }` so we also need the `!important` here to be able to override the default hidden behavior on the sphinx rendered scikit-learn.org. See: https://github.com/scikit-learn/scikit-learn/issues/21755 */display: inline-block !important;position: relative;}#sk-container-id-2 div.sk-text-repr-fallback {display: none;}</style><div id=\"sk-container-id-2\" class=\"sk-top-container\"><div class=\"sk-text-repr-fallback\"><pre>DecisionTreeClassifier(class_weight={0: 0.5466576251072802,\n",
              "                                     1: 0.4533423748927198},\n",
              "                       criterion=&#x27;entropy&#x27;, max_depth=6, min_samples_leaf=5,\n",
              "                       random_state=1)</pre><b>In a Jupyter environment, please rerun this cell to show the HTML representation or trust the notebook. <br />On GitHub, the HTML representation is unable to render, please try loading this page with nbviewer.org.</b></div><div class=\"sk-container\" hidden><div class=\"sk-item\"><div class=\"sk-estimator sk-toggleable\"><input class=\"sk-toggleable__control sk-hidden--visually\" id=\"sk-estimator-id-2\" type=\"checkbox\" checked><label for=\"sk-estimator-id-2\" class=\"sk-toggleable__label sk-toggleable__label-arrow\">DecisionTreeClassifier</label><div class=\"sk-toggleable__content\"><pre>DecisionTreeClassifier(class_weight={0: 0.5466576251072802,\n",
              "                                     1: 0.4533423748927198},\n",
              "                       criterion=&#x27;entropy&#x27;, max_depth=6, min_samples_leaf=5,\n",
              "                       random_state=1)</pre></div></div></div></div></div>"
            ],
            "text/plain": [
              "DecisionTreeClassifier(class_weight={0: 0.5466576251072802,\n",
              "                                     1: 0.4533423748927198},\n",
              "                       criterion='entropy', max_depth=6, min_samples_leaf=5,\n",
              "                       random_state=1)"
            ]
          },
          "execution_count": 93,
          "metadata": {},
          "output_type": "execute_result"
        }
      ],
      "source": [
        "# Choose the type of classifier\n",
        "dtree_estimator = DecisionTreeClassifier(class_weight = class_weight, random_state = 1)\n",
        "\n",
        "# Grid of parameters to choose from\n",
        "parameters = {'max_depth': np.arange(2, 7),\n",
        "              'criterion': ['gini', 'entropy'],\n",
        "              'min_samples_leaf': [5, 10, 20, 25],\n",
        "              'class_weight': [class_weight, 'balanced']\n",
        "             }\n",
        "\n",
        "# Type of scoring used to compare parameter combinations\n",
        "scorer = make_scorer(recall_score, pos_label = 1)\n",
        "\n",
        "# Run the grid search\n",
        "gridCV = GridSearchCV(dtree_estimator, parameters, scoring = 'accuracy', cv = 10)\n",
        "\n",
        "# Fitting the grid search on the train data\n",
        "gridCV = gridCV.fit(X_train, y_train)\n",
        "\n",
        "# Set the classifier to the best combination of parameters\n",
        "dtree_estimator = gridCV.best_estimator_\n",
        "\n",
        "# Fit the best estimator to the data\n",
        "dtree_estimator.fit(X_train, y_train)"
      ]
    },
    {
      "cell_type": "code",
      "execution_count": 96,
      "id": "11549dfe",
      "metadata": {},
      "outputs": [
        {
          "data": {
            "text/html": [
              "<style>#sk-container-id-3 {color: black;background-color: white;}#sk-container-id-3 pre{padding: 0;}#sk-container-id-3 div.sk-toggleable {background-color: white;}#sk-container-id-3 label.sk-toggleable__label {cursor: pointer;display: block;width: 100%;margin-bottom: 0;padding: 0.3em;box-sizing: border-box;text-align: center;}#sk-container-id-3 label.sk-toggleable__label-arrow:before {content: \"▸\";float: left;margin-right: 0.25em;color: #696969;}#sk-container-id-3 label.sk-toggleable__label-arrow:hover:before {color: black;}#sk-container-id-3 div.sk-estimator:hover label.sk-toggleable__label-arrow:before {color: black;}#sk-container-id-3 div.sk-toggleable__content {max-height: 0;max-width: 0;overflow: hidden;text-align: left;background-color: #f0f8ff;}#sk-container-id-3 div.sk-toggleable__content pre {margin: 0.2em;color: black;border-radius: 0.25em;background-color: #f0f8ff;}#sk-container-id-3 input.sk-toggleable__control:checked~div.sk-toggleable__content {max-height: 200px;max-width: 100%;overflow: auto;}#sk-container-id-3 input.sk-toggleable__control:checked~label.sk-toggleable__label-arrow:before {content: \"▾\";}#sk-container-id-3 div.sk-estimator input.sk-toggleable__control:checked~label.sk-toggleable__label {background-color: #d4ebff;}#sk-container-id-3 div.sk-label input.sk-toggleable__control:checked~label.sk-toggleable__label {background-color: #d4ebff;}#sk-container-id-3 input.sk-hidden--visually {border: 0;clip: rect(1px 1px 1px 1px);clip: rect(1px, 1px, 1px, 1px);height: 1px;margin: -1px;overflow: hidden;padding: 0;position: absolute;width: 1px;}#sk-container-id-3 div.sk-estimator {font-family: monospace;background-color: #f0f8ff;border: 1px dotted black;border-radius: 0.25em;box-sizing: border-box;margin-bottom: 0.5em;}#sk-container-id-3 div.sk-estimator:hover {background-color: #d4ebff;}#sk-container-id-3 div.sk-parallel-item::after {content: \"\";width: 100%;border-bottom: 1px solid gray;flex-grow: 1;}#sk-container-id-3 div.sk-label:hover label.sk-toggleable__label {background-color: #d4ebff;}#sk-container-id-3 div.sk-serial::before {content: \"\";position: absolute;border-left: 1px solid gray;box-sizing: border-box;top: 0;bottom: 0;left: 50%;z-index: 0;}#sk-container-id-3 div.sk-serial {display: flex;flex-direction: column;align-items: center;background-color: white;padding-right: 0.2em;padding-left: 0.2em;position: relative;}#sk-container-id-3 div.sk-item {position: relative;z-index: 1;}#sk-container-id-3 div.sk-parallel {display: flex;align-items: stretch;justify-content: center;background-color: white;position: relative;}#sk-container-id-3 div.sk-item::before, #sk-container-id-3 div.sk-parallel-item::before {content: \"\";position: absolute;border-left: 1px solid gray;box-sizing: border-box;top: 0;bottom: 0;left: 50%;z-index: -1;}#sk-container-id-3 div.sk-parallel-item {display: flex;flex-direction: column;z-index: 1;position: relative;background-color: white;}#sk-container-id-3 div.sk-parallel-item:first-child::after {align-self: flex-end;width: 50%;}#sk-container-id-3 div.sk-parallel-item:last-child::after {align-self: flex-start;width: 50%;}#sk-container-id-3 div.sk-parallel-item:only-child::after {width: 0;}#sk-container-id-3 div.sk-dashed-wrapped {border: 1px dashed gray;margin: 0 0.4em 0.5em 0.4em;box-sizing: border-box;padding-bottom: 0.4em;background-color: white;}#sk-container-id-3 div.sk-label label {font-family: monospace;font-weight: bold;display: inline-block;line-height: 1.2em;}#sk-container-id-3 div.sk-label-container {text-align: center;}#sk-container-id-3 div.sk-container {/* jupyter's `normalize.less` sets `[hidden] { display: none; }` but bootstrap.min.css set `[hidden] { display: none !important; }` so we also need the `!important` here to be able to override the default hidden behavior on the sphinx rendered scikit-learn.org. See: https://github.com/scikit-learn/scikit-learn/issues/21755 */display: inline-block !important;position: relative;}#sk-container-id-3 div.sk-text-repr-fallback {display: none;}</style><div id=\"sk-container-id-3\" class=\"sk-top-container\"><div class=\"sk-text-repr-fallback\"><pre>DecisionTreeClassifier(class_weight={0: 0.5466576251072802,\n",
              "                                     1: 0.4533423748927198},\n",
              "                       criterion=&#x27;entropy&#x27;, max_depth=6, min_samples_leaf=5,\n",
              "                       random_state=1)</pre><b>In a Jupyter environment, please rerun this cell to show the HTML representation or trust the notebook. <br />On GitHub, the HTML representation is unable to render, please try loading this page with nbviewer.org.</b></div><div class=\"sk-container\" hidden><div class=\"sk-item\"><div class=\"sk-estimator sk-toggleable\"><input class=\"sk-toggleable__control sk-hidden--visually\" id=\"sk-estimator-id-3\" type=\"checkbox\" checked><label for=\"sk-estimator-id-3\" class=\"sk-toggleable__label sk-toggleable__label-arrow\">DecisionTreeClassifier</label><div class=\"sk-toggleable__content\"><pre>DecisionTreeClassifier(class_weight={0: 0.5466576251072802,\n",
              "                                     1: 0.4533423748927198},\n",
              "                       criterion=&#x27;entropy&#x27;, max_depth=6, min_samples_leaf=5,\n",
              "                       random_state=1)</pre></div></div></div></div></div>"
            ],
            "text/plain": [
              "DecisionTreeClassifier(class_weight={0: 0.5466576251072802,\n",
              "                                     1: 0.4533423748927198},\n",
              "                       criterion='entropy', max_depth=6, min_samples_leaf=5,\n",
              "                       random_state=1)"
            ]
          },
          "execution_count": 96,
          "metadata": {},
          "output_type": "execute_result"
        }
      ],
      "source": [
        "dtree_estimator = DecisionTreeClassifier(class_weight = class_weight, \n",
        "                                         max_depth=6,\n",
        "                                         criterion='entropy',\n",
        "                                         min_samples_leaf=5,\n",
        "                                         random_state = 1)\n",
        "\n",
        "dtree_estimator.fit(X_train, y_train)"
      ]
    },
    {
      "cell_type": "code",
      "execution_count": 97,
      "id": "ZQ_UkxzvS7RQ",
      "metadata": {
        "colab": {
          "base_uri": "https://localhost:8080/",
          "height": 621
        },
        "id": "ZQ_UkxzvS7RQ",
        "outputId": "3f806e40-90bc-42dc-b173-d958abec2e8d"
      },
      "outputs": [
        {
          "name": "stdout",
          "output_type": "stream",
          "text": [
            "              precision    recall  f1-score   support\n",
            "\n",
            "           0       0.84      0.91      0.88     29950\n",
            "           1       0.92      0.86      0.89     36115\n",
            "\n",
            "    accuracy                           0.88     66065\n",
            "   macro avg       0.88      0.88      0.88     66065\n",
            "weighted avg       0.89      0.88      0.88     66065\n",
            "\n"
          ]
        },
        {
          "data": {
            "image/png": "[encoded data removed]",
            "text/plain": [
              "<Figure size 800x500 with 2 Axes>"
            ]
          },
          "metadata": {},
          "output_type": "display_data"
        }
      ],
      "source": [
        "# Checking performance on the training dataset\n",
        "y_train_pred_dt = dtree_estimator.predict(X_train)\n",
        "\n",
        "metrics_score(y_train, y_train_pred_dt)"
      ]
    },
    {
      "cell_type": "code",
      "execution_count": 98,
      "id": "cKeb6SbwTKXo",
      "metadata": {
        "colab": {
          "base_uri": "https://localhost:8080/",
          "height": 621
        },
        "id": "cKeb6SbwTKXo",
        "outputId": "a00c138c-b596-4f8e-d26c-7ff090c26529"
      },
      "outputs": [
        {
          "name": "stdout",
          "output_type": "stream",
          "text": [
            "              precision    recall  f1-score   support\n",
            "\n",
            "           0       0.84      0.91      0.87     12836\n",
            "           1       0.92      0.85      0.88     15478\n",
            "\n",
            "    accuracy                           0.88     28314\n",
            "   macro avg       0.88      0.88      0.88     28314\n",
            "weighted avg       0.88      0.88      0.88     28314\n",
            "\n"
          ]
        },
        {
          "data": {
            "image/png": "[encoded data removed]",
            "text/plain": [
              "<Figure size 800x500 with 2 Axes>"
            ]
          },
          "metadata": {},
          "output_type": "display_data"
        }
      ],
      "source": [
        "# Checking performance on the test dataset\n",
        "y_test_pred_dt = dtree_estimator.predict(X_test)\n",
        "\n",
        "metrics_score(y_test, y_test_pred_dt)"
      ]
    },
    {
      "attachments": {},
      "cell_type": "markdown",
      "id": "a8c47c07",
      "metadata": {
        "id": "a8c47c07"
      },
      "source": [
        "## Building a Random Forest model"
      ]
    },
    {
      "cell_type": "code",
      "execution_count": 99,
      "id": "8bbd87fb",
      "metadata": {
        "colab": {
          "base_uri": "https://localhost:8080/",
          "height": 75
        },
        "id": "8bbd87fb",
        "outputId": "ce832551-02ac-4d22-fcf9-82b70caf1f3d"
      },
      "outputs": [
        {
          "data": {
            "text/html": [
              "<style>#sk-container-id-4 {color: black;background-color: white;}#sk-container-id-4 pre{padding: 0;}#sk-container-id-4 div.sk-toggleable {background-color: white;}#sk-container-id-4 label.sk-toggleable__label {cursor: pointer;display: block;width: 100%;margin-bottom: 0;padding: 0.3em;box-sizing: border-box;text-align: center;}#sk-container-id-4 label.sk-toggleable__label-arrow:before {content: \"▸\";float: left;margin-right: 0.25em;color: #696969;}#sk-container-id-4 label.sk-toggleable__label-arrow:hover:before {color: black;}#sk-container-id-4 div.sk-estimator:hover label.sk-toggleable__label-arrow:before {color: black;}#sk-container-id-4 div.sk-toggleable__content {max-height: 0;max-width: 0;overflow: hidden;text-align: left;background-color: #f0f8ff;}#sk-container-id-4 div.sk-toggleable__content pre {margin: 0.2em;color: black;border-radius: 0.25em;background-color: #f0f8ff;}#sk-container-id-4 input.sk-toggleable__control:checked~div.sk-toggleable__content {max-height: 200px;max-width: 100%;overflow: auto;}#sk-container-id-4 input.sk-toggleable__control:checked~label.sk-toggleable__label-arrow:before {content: \"▾\";}#sk-container-id-4 div.sk-estimator input.sk-toggleable__control:checked~label.sk-toggleable__label {background-color: #d4ebff;}#sk-container-id-4 div.sk-label input.sk-toggleable__control:checked~label.sk-toggleable__label {background-color: #d4ebff;}#sk-container-id-4 input.sk-hidden--visually {border: 0;clip: rect(1px 1px 1px 1px);clip: rect(1px, 1px, 1px, 1px);height: 1px;margin: -1px;overflow: hidden;padding: 0;position: absolute;width: 1px;}#sk-container-id-4 div.sk-estimator {font-family: monospace;background-color: #f0f8ff;border: 1px dotted black;border-radius: 0.25em;box-sizing: border-box;margin-bottom: 0.5em;}#sk-container-id-4 div.sk-estimator:hover {background-color: #d4ebff;}#sk-container-id-4 div.sk-parallel-item::after {content: \"\";width: 100%;border-bottom: 1px solid gray;flex-grow: 1;}#sk-container-id-4 div.sk-label:hover label.sk-toggleable__label {background-color: #d4ebff;}#sk-container-id-4 div.sk-serial::before {content: \"\";position: absolute;border-left: 1px solid gray;box-sizing: border-box;top: 0;bottom: 0;left: 50%;z-index: 0;}#sk-container-id-4 div.sk-serial {display: flex;flex-direction: column;align-items: center;background-color: white;padding-right: 0.2em;padding-left: 0.2em;position: relative;}#sk-container-id-4 div.sk-item {position: relative;z-index: 1;}#sk-container-id-4 div.sk-parallel {display: flex;align-items: stretch;justify-content: center;background-color: white;position: relative;}#sk-container-id-4 div.sk-item::before, #sk-container-id-4 div.sk-parallel-item::before {content: \"\";position: absolute;border-left: 1px solid gray;box-sizing: border-box;top: 0;bottom: 0;left: 50%;z-index: -1;}#sk-container-id-4 div.sk-parallel-item {display: flex;flex-direction: column;z-index: 1;position: relative;background-color: white;}#sk-container-id-4 div.sk-parallel-item:first-child::after {align-self: flex-end;width: 50%;}#sk-container-id-4 div.sk-parallel-item:last-child::after {align-self: flex-start;width: 50%;}#sk-container-id-4 div.sk-parallel-item:only-child::after {width: 0;}#sk-container-id-4 div.sk-dashed-wrapped {border: 1px dashed gray;margin: 0 0.4em 0.5em 0.4em;box-sizing: border-box;padding-bottom: 0.4em;background-color: white;}#sk-container-id-4 div.sk-label label {font-family: monospace;font-weight: bold;display: inline-block;line-height: 1.2em;}#sk-container-id-4 div.sk-label-container {text-align: center;}#sk-container-id-4 div.sk-container {/* jupyter's `normalize.less` sets `[hidden] { display: none; }` but bootstrap.min.css set `[hidden] { display: none !important; }` so we also need the `!important` here to be able to override the default hidden behavior on the sphinx rendered scikit-learn.org. See: https://github.com/scikit-learn/scikit-learn/issues/21755 */display: inline-block !important;position: relative;}#sk-container-id-4 div.sk-text-repr-fallback {display: none;}</style><div id=\"sk-container-id-4\" class=\"sk-top-container\"><div class=\"sk-text-repr-fallback\"><pre>RandomForestClassifier(class_weight={0: 0.5466576251072802,\n",
              "                                     1: 0.4533423748927198},\n",
              "                       random_state=1)</pre><b>In a Jupyter environment, please rerun this cell to show the HTML representation or trust the notebook. <br />On GitHub, the HTML representation is unable to render, please try loading this page with nbviewer.org.</b></div><div class=\"sk-container\" hidden><div class=\"sk-item\"><div class=\"sk-estimator sk-toggleable\"><input class=\"sk-toggleable__control sk-hidden--visually\" id=\"sk-estimator-id-4\" type=\"checkbox\" checked><label for=\"sk-estimator-id-4\" class=\"sk-toggleable__label sk-toggleable__label-arrow\">RandomForestClassifier</label><div class=\"sk-toggleable__content\"><pre>RandomForestClassifier(class_weight={0: 0.5466576251072802,\n",
              "                                     1: 0.4533423748927198},\n",
              "                       random_state=1)</pre></div></div></div></div></div>"
            ],
            "text/plain": [
              "RandomForestClassifier(class_weight={0: 0.5466576251072802,\n",
              "                                     1: 0.4533423748927198},\n",
              "                       random_state=1)"
            ]
          },
          "execution_count": 99,
          "metadata": {},
          "output_type": "execute_result"
        }
      ],
      "source": [
        "# Fitting the Random Forest classifier on the training data\n",
        "rf_estimator = RandomForestClassifier(class_weight = class_weight, random_state = 1)\n",
        "\n",
        "rf_estimator.fit(X_train, y_train)"
      ]
    },
    {
      "cell_type": "code",
      "execution_count": 100,
      "id": "LK1mZYeqTe_O",
      "metadata": {
        "colab": {
          "base_uri": "https://localhost:8080/",
          "height": 621
        },
        "id": "LK1mZYeqTe_O",
        "outputId": "efd93081-3ec7-40b2-a73d-5da67c3d6e7d"
      },
      "outputs": [
        {
          "name": "stdout",
          "output_type": "stream",
          "text": [
            "              precision    recall  f1-score   support\n",
            "\n",
            "           0       1.00      1.00      1.00     29950\n",
            "           1       1.00      1.00      1.00     36115\n",
            "\n",
            "    accuracy                           1.00     66065\n",
            "   macro avg       1.00      1.00      1.00     66065\n",
            "weighted avg       1.00      1.00      1.00     66065\n",
            "\n"
          ]
        },
        {
          "data": {
            "image/png": "[encoded data removed]",
            "text/plain": [
              "<Figure size 800x500 with 2 Axes>"
            ]
          },
          "metadata": {},
          "output_type": "display_data"
        }
      ],
      "source": [
        "# Checking performance on the training data\n",
        "y_pred_train_rf = rf_estimator.predict(X_train)\n",
        "\n",
        "metrics_score(y_train, y_pred_train_rf)"
      ]
    },
    {
      "cell_type": "code",
      "execution_count": 101,
      "id": "YkSHwhxlTifG",
      "metadata": {
        "colab": {
          "base_uri": "https://localhost:8080/",
          "height": 621
        },
        "id": "YkSHwhxlTifG",
        "outputId": "3e061b84-e127-48a5-df3f-20fae171d6d8"
      },
      "outputs": [
        {
          "name": "stdout",
          "output_type": "stream",
          "text": [
            "              precision    recall  f1-score   support\n",
            "\n",
            "           0       0.94      0.95      0.94     12836\n",
            "           1       0.96      0.95      0.95     15478\n",
            "\n",
            "    accuracy                           0.95     28314\n",
            "   macro avg       0.95      0.95      0.95     28314\n",
            "weighted avg       0.95      0.95      0.95     28314\n",
            "\n"
          ]
        },
        {
          "data": {
            "image/png": "[encoded data removed]",
            "text/plain": [
              "<Figure size 800x500 with 2 Axes>"
            ]
          },
          "metadata": {},
          "output_type": "display_data"
        }
      ],
      "source": [
        "# Checking performance on the testing data\n",
        "y_pred_test_rf = rf_estimator.predict(X_test)\n",
        "\n",
        "metrics_score(y_test, y_pred_test_rf)"
      ]
    },
    {
      "attachments": {},
      "cell_type": "markdown",
      "id": "cOK5UxRAU_Cg",
      "metadata": {
        "id": "cOK5UxRAU_Cg"
      },
      "source": [
        "**Hyperparamter Tuning for Random Forest**"
      ]
    },
    {
      "cell_type": "code",
      "execution_count": null,
      "id": "_f_veBa2VFiB",
      "metadata": {
        "colab": {
          "base_uri": "https://localhost:8080/",
          "height": 109
        },
        "id": "_f_veBa2VFiB",
        "outputId": "2a106631-109c-4bc0-a09a-d8d7af31151a"
      },
      "outputs": [],
      "source": [
        "# Initialise RF\n",
        "rf_estimator_tuned = RandomForestClassifier(class_weight = class_weight, random_state = 1)\n",
        "\n",
        "# Define Parameter Grid\n",
        "params_rf = {\n",
        "    \"n_estimators\": [110,130,150],\n",
        "    \"max_depth\": [3,4,5],\n",
        "    \"min_samples_leaf\": [15,20,25],\n",
        "    \"max_features\": [0.8, 0.9, 'auto'],\n",
        "    \"max_samples\": [0.8,0.9, 1],\n",
        "    \"class_weight\": [class_weight, \"balanced\"]\n",
        "             }\n",
        "\n",
        "# Make Scorer for Recall for Class 1\n",
        "scorer = make_scorer(recall_score, pos_label = 1)\n",
        "\n",
        "# Run the grid search\n",
        "grid_obj = GridSearchCV(rf_estimator_tuned, params_rf, scoring = 'accuracy', cv = 5, n_jobs=-1)\n",
        "\n",
        "grid_obj = grid_obj.fit(X_train, y_train)\n",
        "\n",
        "# Set the classifier to the best combination of parameters\n",
        "rf_estimator_tuned = grid_obj.best_estimator_\n",
        "\n",
        "# Fit the data\n",
        "rf_estimator_tuned.fit(X_train, y_train)"
      ]
    },
    {
      "cell_type": "code",
      "execution_count": 102,
      "id": "9uUvimDsVT-c",
      "metadata": {
        "colab": {
          "base_uri": "https://localhost:8080/",
          "height": 625
        },
        "id": "9uUvimDsVT-c",
        "outputId": "d0348295-ee26-40b6-c770-7c08fa563f95"
      },
      "outputs": [
        {
          "name": "stdout",
          "output_type": "stream",
          "text": [
            "              precision    recall  f1-score   support\n",
            "\n",
            "           0       0.85      0.92      0.88     29950\n",
            "           1       0.93      0.87      0.90     36115\n",
            "\n",
            "    accuracy                           0.89     66065\n",
            "   macro avg       0.89      0.89      0.89     66065\n",
            "weighted avg       0.89      0.89      0.89     66065\n",
            "\n"
          ]
        },
        {
          "data": {
            "image/png": "[encoded data removed]",
            "text/plain": [
              "<Figure size 800x500 with 2 Axes>"
            ]
          },
          "metadata": {},
          "output_type": "display_data"
        }
      ],
      "source": [
        "# Checking performance on the training data\n",
        "rf_estimator_tuned = RandomForestClassifier(class_weight = 'balanced', max_depth=5, \n",
        "                                             max_features='auto' ,\n",
        "                                             max_samples=0.8,\n",
        "                                             min_samples_leaf=20,\n",
        "                                             n_estimators=130,\n",
        "                                             random_state = 1)\n",
        "rf_estimator_tuned.fit(X_train, y_train)\n",
        "y_pred_train_rf_tuned = rf_estimator_tuned.predict(X_train)\n",
        "\n",
        "metrics_score(y_train, y_pred_train_rf_tuned)"
      ]
    },
    {
      "cell_type": "code",
      "execution_count": 103,
      "id": "flPYrU_kVXM8",
      "metadata": {
        "colab": {
          "base_uri": "https://localhost:8080/",
          "height": 621
        },
        "id": "flPYrU_kVXM8",
        "outputId": "d4415b67-d687-4ce0-962a-a7f2e3740521"
      },
      "outputs": [
        {
          "name": "stdout",
          "output_type": "stream",
          "text": [
            "              precision    recall  f1-score   support\n",
            "\n",
            "           0       0.85      0.92      0.89     12836\n",
            "           1       0.93      0.87      0.90     15478\n",
            "\n",
            "    accuracy                           0.89     28314\n",
            "   macro avg       0.89      0.90      0.89     28314\n",
            "weighted avg       0.90      0.89      0.89     28314\n",
            "\n"
          ]
        },
        {
          "data": {
            "image/png": "[encoded data removed]",
            "text/plain": [
              "<Figure size 800x500 with 2 Axes>"
            ]
          },
          "metadata": {},
          "output_type": "display_data"
        }
      ],
      "source": [
        "# Checking performance on the test data\n",
        "y_pred_test_rf_tuned = rf_estimator_tuned.predict(X_test)\n",
        "\n",
        "metrics_score(y_test, y_pred_test_rf_tuned)"
      ]
    },
    {
      "attachments": {},
      "cell_type": "markdown",
      "id": "bc0e2c71",
      "metadata": {},
      "source": [
        "# Final Output"
      ]
    },
    {
      "cell_type": "code",
      "execution_count": 121,
      "id": "0085cd2a",
      "metadata": {},
      "outputs": [],
      "source": [
        "model = dtree_estimator\n",
        "\n",
        "y_pred_final = model.predict(out_df)"
      ]
    },
    {
      "cell_type": "code",
      "execution_count": 122,
      "id": "55f0ff77",
      "metadata": {},
      "outputs": [],
      "source": [
        "output_columns = ['ID', 'Overall_Experience']\n",
        "output_df = pd.DataFrame(columns=output_columns)\n",
        "output_df['ID'] = test_df['ID']\n",
        "output_df['Overall_Experience'] = y_pred_final\n",
        "\n",
        "from datetime import datetime\n",
        "out_path = os.getcwd()+'/results/'+f'output_{datetime.now()}.csv'\n",
        "output_df.to_csv(out_path, index=False)"
      ]
    },
    {
      "cell_type": "code",
      "execution_count": null,
      "id": "63c88cbd",
      "metadata": {},
      "outputs": [],
      "source": []
    }
  ],
  "metadata": {
    "accelerator": "GPU",
    "colab": {
      "gpuType": "T4",
      "provenance": []
    },
    "kernelspec": {
      "display_name": "Python 3",
      "name": "python3"
    },
    "language_info": {
      "codemirror_mode": {
        "name": "ipython",
        "version": 3
      },
      "file_extension": ".py",
      "mimetype": "text/x-python",
      "name": "python",
      "nbconvert_exporter": "python",
      "pygments_lexer": "ipython3",
      "version": "3.9.12"
    }
  },
  "nbformat": 4,
  "nbformat_minor": 5
}
